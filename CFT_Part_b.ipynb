{
  "cells": [
    {
      "cell_type": "markdown",
      "metadata": {
        "id": "33qxCDlwCNWv"
      },
      "source": [
        "# Question 1 The Lorentz Group and Its Generators **(10 points)**"
      ]
    },
    {
      "cell_type": "markdown",
      "metadata": {
        "id": "ncEDjpl9h4Ok"
      },
      "source": [
        "We have learned that the Lorentz transformations form a group called the Lorentz group, in this exercise we shall study the Lorentz group further and focus on its generators and their matrix representations. For more information one could look at chapter 10 of the following book (Groups, Representation and Physics by H. F. Jones).\n",
        "\n",
        "**(a)** We know that there are two types of Lorentz transformations: boosts and rotations. These Lorentz transformations can be written in terms of their generators as follows. For boosts we can write,\n",
        "\n",
        "$$(\\Lambda_{w}^{\\mathrm{(boost)}})^{\\mu}_{\\hspace{2mm}\\nu}=e^{-i\\phi B_{w}}$$\n",
        "\n",
        "where $w=x,y,z$ and the matrices $B_{w}$ are called the generators of boosts and $\\phi$ the rapidity. The generators for the boosts in each direction are given as follows,\n",
        "\n",
        "$$B_{x}=\\begin{pmatrix}\n",
        "0 & -i & 0 & 0\\\\\n",
        "-i & 0 & 0 & 0\\\\\n",
        "0 & 0 & 0 & 0\\\\\n",
        "0 & 0 & 0 & 0\\\\\n",
        "\\end{pmatrix},\\hspace{10mm}B_{y}=\\begin{pmatrix}\n",
        "0 & 0 & -i & 0\\\\\n",
        "0 & 0 & 0 & 0\\\\\n",
        "-i & 0 & 0 & 0\\\\\n",
        "0 & 0 & 0 & 0\\\\\n",
        "\\end{pmatrix},\\hspace{10mm} B_{z}=\\begin{pmatrix}\n",
        "0 & 0 & 0 & -i\\\\\n",
        "0 & 0 & 0 & 0\\\\\n",
        "0 & 0 & 0 & 0\\\\\n",
        "-i & 0 & 0 & 0\\\\\n",
        "\\end{pmatrix}. $$\n",
        "\n",
        "Using sympy find the Lorentz transformations for the boosts in each ofn the 3 directions using the generators above. **(4 points)**"
      ]
    },
    {
      "cell_type": "code",
      "execution_count": 1,
      "metadata": {
        "colab": {
          "base_uri": "https://localhost:8080/"
        },
        "id": "tXRUSdHih3k4",
        "outputId": "8d3d4a28-ccc3-4c95-b4ec-63651d8d6368"
      },
      "outputs": [],
      "source": [
        "# solution to 1. (a)\n",
        "\n",
        "from sympy import Matrix,Symbol,simplify,exp,I,pprint\n",
        "\n",
        "\n",
        "phi=Symbol('\\phi')\n",
        "\n",
        "Bx=Matrix([[0,-I,0,0],\n",
        "           [-I,0,0,0],\n",
        "           [0,0,0,0],\n",
        "           [0,0,0,0]])\n",
        "\n",
        "By=Matrix([[0,0,-I,0],\n",
        "           [0,0,0,0],\n",
        "           [-I,0,0,0],\n",
        "           [0,0,0,0]])\n",
        "\n",
        "Bz=Matrix([[0,0,0,-I],\n",
        "           [0,0,0,0],\n",
        "           [0,0,0,0],\n",
        "           [-I,0,0,0]])\n",
        "\n",
        "\n",
        "Lbx=simplify(exp(-I*phi*Bx))\n",
        "Lby=simplify(exp(-I*phi*By))\n",
        "Lbz=simplify(exp(-I*phi*Bz))\n",
        "\n",
        "\n"
      ]
    },
    {
      "cell_type": "code",
      "execution_count": 3,
      "metadata": {},
      "outputs": [
        {
          "data": {
            "text/latex": [
              "$\\displaystyle \\left[\\begin{matrix}\\cosh{\\left(\\phi \\right)} & - \\sinh{\\left(\\phi \\right)} & 0 & 0\\\\- \\sinh{\\left(\\phi \\right)} & \\cosh{\\left(\\phi \\right)} & 0 & 0\\\\0 & 0 & 1 & 0\\\\0 & 0 & 0 & 1\\end{matrix}\\right]$"
            ],
            "text/plain": [
              "Matrix([\n",
              "[ cosh(\\phi), -sinh(\\phi), 0, 0],\n",
              "[-sinh(\\phi),  cosh(\\phi), 0, 0],\n",
              "[          0,           0, 1, 0],\n",
              "[          0,           0, 0, 1]])"
            ]
          },
          "execution_count": 3,
          "metadata": {},
          "output_type": "execute_result"
        }
      ],
      "source": [
        "Lbx"
      ]
    },
    {
      "cell_type": "code",
      "execution_count": 4,
      "metadata": {},
      "outputs": [
        {
          "data": {
            "text/latex": [
              "$\\displaystyle \\left[\\begin{matrix}\\cosh{\\left(\\phi \\right)} & 0 & - \\sinh{\\left(\\phi \\right)} & 0\\\\0 & 1 & 0 & 0\\\\- \\sinh{\\left(\\phi \\right)} & 0 & \\cosh{\\left(\\phi \\right)} & 0\\\\0 & 0 & 0 & 1\\end{matrix}\\right]$"
            ],
            "text/plain": [
              "Matrix([\n",
              "[ cosh(\\phi), 0, -sinh(\\phi), 0],\n",
              "[          0, 1,           0, 0],\n",
              "[-sinh(\\phi), 0,  cosh(\\phi), 0],\n",
              "[          0, 0,           0, 1]])"
            ]
          },
          "execution_count": 4,
          "metadata": {},
          "output_type": "execute_result"
        }
      ],
      "source": [
        "Lby"
      ]
    },
    {
      "cell_type": "code",
      "execution_count": 5,
      "metadata": {},
      "outputs": [
        {
          "data": {
            "text/latex": [
              "$\\displaystyle \\left[\\begin{matrix}\\cosh{\\left(\\phi \\right)} & 0 & 0 & - \\sinh{\\left(\\phi \\right)}\\\\0 & 1 & 0 & 0\\\\0 & 0 & 1 & 0\\\\- \\sinh{\\left(\\phi \\right)} & 0 & 0 & \\cosh{\\left(\\phi \\right)}\\end{matrix}\\right]$"
            ],
            "text/plain": [
              "Matrix([\n",
              "[ cosh(\\phi), 0, 0, -sinh(\\phi)],\n",
              "[          0, 1, 0,           0],\n",
              "[          0, 0, 1,           0],\n",
              "[-sinh(\\phi), 0, 0,  cosh(\\phi)]])"
            ]
          },
          "execution_count": 5,
          "metadata": {},
          "output_type": "execute_result"
        }
      ],
      "source": [
        "Lbz"
      ]
    },
    {
      "cell_type": "markdown",
      "metadata": {
        "id": "Wmb5ieJepc9m"
      },
      "source": [
        "**(b)** The other types of Lorentz transformations are rotations and we can write these as follows,\n",
        "\n",
        "$(\\Lambda_{w}^{(rot)})^{\\mu}_{\\hspace{2mm}\\nu}=e^{-i\\theta R_{w}},$\n",
        "\n",
        "where $R_{w}$ are the generators of the rotation about each axes $w=x,y,z$ and $\\theta$ is the angle of rotation. We can calculate the generators of the rotations with the following formula,\n",
        "\n",
        "$R_{w}=i\\frac{d\\Lambda_{w}^{(rot)}}{d\\theta}\\bigg|_{\\theta=0}$.\n",
        "\n",
        "Now use the diff() function from sympy as well as evalf() to calculate the generators of Lorentz rotations about each axes given the 3 Lorentz rotation matrices,\n",
        "\n",
        "$\\Lambda_{x}^{\\mathrm{(rot)}}=\\begin{pmatrix}\n",
        "1 & 0 & 0 & 0\\\\\n",
        "0 & 1 & 0 & 0\\\\\n",
        "0 & 0 & \\cos(\\theta) & -\\sin(\\theta)\\\\\n",
        "0 & 0 & \\sin(\\theta) & \\cos(\\theta)\\\\\n",
        "\\end{pmatrix}, \\hspace{10mm} \\Lambda_{z}^{\\mathrm{(rot)}}=\\begin{pmatrix}\n",
        "1 & 0 & 0 & 0\\\\\n",
        "0 & \\cos(\\theta) & -\\sin(\\theta)& 0\\\\\n",
        "0 0 & \\sin(\\theta) & \\cos(\\theta)& 0\\\\\n",
        "0 & 0 & 0 & 1\\\\\n",
        "\\end{pmatrix}, \\hspace{10mm} \\Lambda_{y}^{\\mathrm{(rot)}}=\\begin{pmatrix}\n",
        "1 & 0 & 0 & 0\\\\\n",
        "0 & \\cos(\\theta) & 0 & -\\sin(\\theta)\\\\\n",
        "0 & 0 & 1 & 0\\\\\n",
        "0 & \\sin(\\theta) & 0 & \\cos(\\theta)\\\\\n",
        "\\end{pmatrix}$\n",
        "\n",
        "Hint: the diff() function calculates the derivative of a sympy matrix or expression with respect to a given symbol. The evalf() function will allow you to substitute a numerical value for a sympy symbol. One could check the sympy documentation for more information on how to use these functions. **(4 points)**"
      ]
    },
    {
      "cell_type": "code",
      "execution_count": 10,
      "metadata": {
        "colab": {
          "base_uri": "https://localhost:8080/"
        },
        "id": "oc7W4TKFFGq4",
        "outputId": "d18781f1-3c0d-484a-98c0-69391e7c24a2"
      },
      "outputs": [],
      "source": [
        "# solution to 1. (b)\n",
        "\n",
        "from sympy import Matrix,Symbol,diff,cos,sin,pprint\n",
        "\n",
        "\n",
        "\n",
        "theta=Symbol('\\theta')\n",
        "\n",
        "Lx=Matrix([[1,0,0,0],\n",
        "          [0,1,0,0],\n",
        "          [0,0,cos(theta),-sin(theta)],\n",
        "          [0,0,sin(theta),cos(theta)]])\n",
        "\n",
        "Ly=Matrix([[1,0,0,0],\n",
        "          [0,cos(theta),0,-sin(theta)],\n",
        "          [0,0,1,0],\n",
        "          [0,sin(theta),0,cos(theta)]])\n",
        "\n",
        "Lz=Matrix([[1,0,0,0],\n",
        "          [0,cos(theta),-sin(theta),0],\n",
        "           [0,sin(theta),cos(theta),0],\n",
        "          [0,0,0,1]])\n",
        "\n",
        "\n",
        "\n",
        "Rx=I*diff(Lx,theta)\n",
        "Ry=I*diff(Ly,theta)\n",
        "Rz=I*diff(Lz,theta)\n",
        "\n"
      ]
    },
    {
      "cell_type": "code",
      "execution_count": 7,
      "metadata": {},
      "outputs": [
        {
          "data": {
            "text/latex": [
              "$\\displaystyle \\left[\\begin{matrix}0 & 0 & 0 & 0\\\\0 & 0 & 0 & 0\\\\0 & 0 & 0 & - 1.0 i\\\\0 & 0 & 1.0 i & 0\\end{matrix}\\right]$"
            ],
            "text/plain": [
              "Matrix([\n",
              "[0, 0,     0,      0],\n",
              "[0, 0,     0,      0],\n",
              "[0, 0,     0, -1.0*I],\n",
              "[0, 0, 1.0*I,      0]])"
            ]
          },
          "execution_count": 7,
          "metadata": {},
          "output_type": "execute_result"
        }
      ],
      "source": [
        "Rx.evalf(subs={theta:0})"
      ]
    },
    {
      "cell_type": "code",
      "execution_count": 8,
      "metadata": {},
      "outputs": [
        {
          "data": {
            "text/latex": [
              "$\\displaystyle \\left[\\begin{matrix}0 & 0 & 0 & 0\\\\0 & 0 & 0 & - 1.0 i\\\\0 & 0 & 0 & 0\\\\0 & 1.0 i & 0 & 0\\end{matrix}\\right]$"
            ],
            "text/plain": [
              "Matrix([\n",
              "[0,     0, 0,      0],\n",
              "[0,     0, 0, -1.0*I],\n",
              "[0,     0, 0,      0],\n",
              "[0, 1.0*I, 0,      0]])"
            ]
          },
          "execution_count": 8,
          "metadata": {},
          "output_type": "execute_result"
        }
      ],
      "source": [
        "Ry.evalf(subs={theta:0})"
      ]
    },
    {
      "cell_type": "code",
      "execution_count": 9,
      "metadata": {},
      "outputs": [
        {
          "data": {
            "text/latex": [
              "$\\displaystyle \\left[\\begin{matrix}0 & 0 & 0 & 0\\\\0 & 0 & - 1.0 i & 0\\\\0 & 1.0 i & 0 & 0\\\\0 & 0 & 0 & 0\\end{matrix}\\right]$"
            ],
            "text/plain": [
              "Matrix([\n",
              "[0,     0,      0, 0],\n",
              "[0,     0, -1.0*I, 0],\n",
              "[0, 1.0*I,      0, 0],\n",
              "[0,     0,      0, 0]])"
            ]
          },
          "execution_count": 9,
          "metadata": {},
          "output_type": "execute_result"
        }
      ],
      "source": [
        "Rz.evalf(subs={theta:0})"
      ]
    },
    {
      "cell_type": "markdown",
      "metadata": {
        "id": "1WJx1IGgRh5r"
      },
      "source": [
        "**(c)** Show that the Lorentz group is closed by multiplying two boosts in the $x$ direction for the two rapidities $\\phi_{1}$ and $\\phi_{2}$. **(2 points)**"
      ]
    },
    {
      "cell_type": "code",
      "execution_count": null,
      "metadata": {
        "colab": {
          "base_uri": "https://localhost:8080/",
          "height": 100
        },
        "id": "OGFgLChJq92Y",
        "outputId": "bb646da0-5a86-4fd0-e6e4-e29017c7b397"
      },
      "outputs": [
        {
          "data": {
            "text/latex": [
              "$\\displaystyle \\left[\\begin{matrix}\\cosh{\\left(\\phi_{1} + \\phi_{2} \\right)} & - \\sinh{\\left(\\phi_{1} + \\phi_{2} \\right)} & 0 & 0\\\\- \\sinh{\\left(\\phi_{1} + \\phi_{2} \\right)} & \\cosh{\\left(\\phi_{1} + \\phi_{2} \\right)} & 0 & 0\\\\0 & 0 & 1 & 0\\\\0 & 0 & 0 & 1\\end{matrix}\\right]$"
            ],
            "text/plain": [
              "Matrix([\n",
              "[ cosh(\\phi_{1} + \\phi_{2}), -sinh(\\phi_{1} + \\phi_{2}), 0, 0],\n",
              "[-sinh(\\phi_{1} + \\phi_{2}),  cosh(\\phi_{1} + \\phi_{2}), 0, 0],\n",
              "[                         0,                          0, 1, 0],\n",
              "[                         0,                          0, 0, 1]])"
            ]
          },
          "execution_count": 14,
          "metadata": {},
          "output_type": "execute_result"
        }
      ],
      "source": [
        "\n",
        "\n",
        "from sympy import Matrix,Symbol,cosh,sinh,simplify\n",
        "\n",
        "\n",
        "phi1=Symbol('\\phi_{1}')\n",
        "\n",
        "phi2=Symbol('\\phi_{2}')\n",
        "\n",
        "Lx1=Matrix([[cosh(phi1),-sinh(phi1),0,0],\n",
        "           [-sinh(phi1),cosh(phi1),0,0],\n",
        "           [0,0,1,0],\n",
        "           [0,0,0,1]])\n",
        "\n",
        "Lx2=Matrix([[cosh(phi2),-sinh(phi2),0,0],\n",
        "           [-sinh(phi2),cosh(phi2),0,0],\n",
        "           [0,0,1,0],\n",
        "           [0,0,0,1]])\n",
        "\n",
        "simplify(Lx1*Lx2)"
      ]
    },
    {
      "cell_type": "markdown",
      "metadata": {
        "id": "HIYRU_bjUITZ"
      },
      "source": [
        "# Question 2 Lorentz Transformation of the Field Strength Tensor **(10 points)**\n",
        "\n"
      ]
    },
    {
      "cell_type": "markdown",
      "metadata": {
        "id": "7n1IHV_UVXql"
      },
      "source": [
        "In this exercise we shall implement the Lorentz Transformation of the tensor $F^{\\mu\\nu}$. We can start by recalling the general Lorentz transformation for a $(p,q)$-tensor. We define a $(p,q)$-tensor as a tensor with $p$ contravariant indicies and $q$ covariant indicies an example of this would be, $T^{\\mu_{1}\\mu_{2}...\\mu_{p}}_{\\hspace{15mm}\\nu_{1}\\nu_{2}...\\nu_{q}}$. Now we say that that a $(p,q)$-tensor that depends on the 4 vector $x$ transforms under a Lorentz transformation $\\Lambda$ as follows,\n",
        "\n",
        "$$T^{\\mu_{1}\\mu_{2}...\\mu_{p}}_{\\hspace{15mm}\\nu_{1}\\nu_{2}...\\nu_{q}} \\xrightarrow{\\Lambda} (T')^{\\mu_{1}\\mu_{2}...\\mu_{p}}_{\\hspace{15mm}\\nu_{1}\\nu_{2}...\\nu_{q}}(x')=\\Lambda^{\\mu_{1}}_{\\hspace{3mm}\\rho_{1}}...\\Lambda^{\\mu_{p}}_{\\hspace{3mm}\\rho_{p}}(\\Lambda^{-1})^{\\sigma_{1}}_{\\hspace{3mm}\\nu_{1}}...(\\Lambda^{-1})^{\\sigma_{q}}_{\\hspace{3mm}\\nu_{q}}T^{\\rho_{1}\\rho_{2}...\\rho_{p}}_{\\hspace{15mm}\\sigma_{1}\\sigma_{2}...\\sigma_{q}}(x). $$\n",
        "\n",
        "Using this transformation Law answer the following questions.\n",
        "\n",
        "**(a)** Define the field strength tensor $F^{\\mu\\nu}$ as a sympy matrix using the symbols $E_{1}=E_{x}$, $E_{2}=E_{y}$ and so on. **(2 points)**"
      ]
    },
    {
      "cell_type": "code",
      "execution_count": null,
      "metadata": {
        "colab": {
          "base_uri": "https://localhost:8080/",
          "height": 100
        },
        "id": "3zzT-9e1T3xo",
        "outputId": "08bf4317-e357-4a2d-c01a-2ebc3361e9fe"
      },
      "outputs": [
        {
          "data": {
            "text/latex": [
              "$\\displaystyle \\left[\\begin{matrix}0 & - E_{x} & - E_{y} & - E_{z}\\\\E_{x} & 0 & - B_{z} & B_{y}\\\\E_{y} & B_{z} & 0 & - B_{x}\\\\E_{z} & - B_{y} & B_{x} & 0\\end{matrix}\\right]$"
            ],
            "text/plain": [
              "Matrix([\n",
              "[    0, -E_{x}, -E_{y}, -E_{z}],\n",
              "[E_{x},      0, -B_{z},  B_{y}],\n",
              "[E_{y},  B_{z},      0, -B_{x}],\n",
              "[E_{z}, -B_{y},  B_{x},      0]])"
            ]
          },
          "execution_count": 15,
          "metadata": {},
          "output_type": "execute_result"
        }
      ],
      "source": [
        "# solution to 2. (a)\n",
        "\n",
        "from sympy import Matrix,Symbol\n",
        "\n",
        "\n",
        "E1=Symbol('E_{x}')\n",
        "E2=Symbol('E_{y}')\n",
        "E3=Symbol('E_{z}')\n",
        "\n",
        "B1=Symbol('B_{x}')\n",
        "B2=Symbol('B_{y}')\n",
        "B3=Symbol('B_{z}')\n",
        "\n",
        "\n",
        "\n",
        "F_upper=Matrix([[0,-E1,-E2,-E3],\n",
        "                [E1,0,-B3,B2],\n",
        "                [E2,B3,0,-B1],\n",
        "                [E3,-B2,B1,0]])\n",
        "\n",
        "F_upper"
      ]
    },
    {
      "cell_type": "markdown",
      "metadata": {
        "id": "FUw0K_opZxzm"
      },
      "source": [
        "**(b)** Using the definition of the field strength tensor above calculate using sympy the Lorentz transformation of $F^{\\mu\\nu}$ under a boost in the (i) $x$ direction and (ii) for a boost in the $y$ direction.\n",
        "\n",
        "Hint: The matrix for a boost in the $y$ direction can be obtained from question 1 (a). **(4 points)**"
      ]
    },
    {
      "cell_type": "code",
      "execution_count": null,
      "metadata": {
        "colab": {
          "base_uri": "https://localhost:8080/",
          "height": 100
        },
        "id": "EEpe1AI3Y0lX",
        "outputId": "06c63831-e52a-412b-b688-53529a1848eb"
      },
      "outputs": [
        {
          "data": {
            "text/latex": [
              "$\\displaystyle \\left[\\begin{matrix}0 & - E_{x} & B_{z} \\sinh{\\left(\\phi \\right)} - E_{y} \\cosh{\\left(\\phi \\right)} & - B_{y} \\sinh{\\left(\\phi \\right)} - E_{z} \\cosh{\\left(\\phi \\right)}\\\\E_{x} & 0 & - B_{z} \\cosh{\\left(\\phi \\right)} + E_{y} \\sinh{\\left(\\phi \\right)} & B_{y} \\cosh{\\left(\\phi \\right)} + E_{z} \\sinh{\\left(\\phi \\right)}\\\\- B_{z} \\sinh{\\left(\\phi \\right)} + E_{y} \\cosh{\\left(\\phi \\right)} & B_{z} \\cosh{\\left(\\phi \\right)} - E_{y} \\sinh{\\left(\\phi \\right)} & 0 & - B_{x}\\\\B_{y} \\sinh{\\left(\\phi \\right)} + E_{z} \\cosh{\\left(\\phi \\right)} & - B_{y} \\cosh{\\left(\\phi \\right)} - E_{z} \\sinh{\\left(\\phi \\right)} & B_{x} & 0\\end{matrix}\\right]$"
            ],
            "text/plain": [
              "Matrix([\n",
              "[                                   0,                               -E_{x},  B_{z}*sinh(\\phi) - E_{y}*cosh(\\phi), -B_{y}*sinh(\\phi) - E_{z}*cosh(\\phi)],\n",
              "[                               E_{x},                                    0, -B_{z}*cosh(\\phi) + E_{y}*sinh(\\phi),  B_{y}*cosh(\\phi) + E_{z}*sinh(\\phi)],\n",
              "[-B_{z}*sinh(\\phi) + E_{y}*cosh(\\phi),  B_{z}*cosh(\\phi) - E_{y}*sinh(\\phi),                                    0,                               -B_{x}],\n",
              "[ B_{y}*sinh(\\phi) + E_{z}*cosh(\\phi), -B_{y}*cosh(\\phi) - E_{z}*sinh(\\phi),                                B_{x},                                    0]])"
            ]
          },
          "execution_count": 16,
          "metadata": {},
          "output_type": "execute_result"
        }
      ],
      "source": [
        "#solution to 2. (b) (i)\n",
        "\n",
        "from sympy import Matrix,Symbol,cosh,sinh,simplify\n",
        "\n",
        "E1=Symbol('E_{x}')\n",
        "E2=Symbol('E_{y}')\n",
        "E3=Symbol('E_{z}')\n",
        "\n",
        "B1=Symbol('B_{x}')\n",
        "B2=Symbol('B_{y}')\n",
        "B3=Symbol('B_{z}')\n",
        "\n",
        "phi=Symbol('\\phi')\n",
        "\n",
        "F_upper=Matrix([[0,-E1,-E2,-E3],\n",
        "                [E1,0,-B3,B2],\n",
        "                [E2,B3,0,-B1],\n",
        "                [E3,-B2,B1,0]])\n",
        "\n",
        "Lx=Matrix([[cosh(phi),-sinh(phi),0,0],\n",
        "           [-sinh(phi),cosh(phi),0,0],\n",
        "           [0,0,1,0],\n",
        "           [0,0,0,1]])\n",
        "\n",
        "F_new=Matrix([[0,0,0,0],\n",
        "              [0,0,0,0],\n",
        "              [0,0,0,0],\n",
        "              [0,0,0,0]])\n",
        "\n",
        "for mu in range(4):\n",
        "  for nu in range(4):\n",
        "    for rho in range(4):\n",
        "      for sigma in range(4):\n",
        "        F_new[mu,nu]+=Lx[mu,rho]*Lx[nu,sigma]*F_upper[rho,sigma]\n",
        "\n",
        "simplify(F_new)"
      ]
    },
    {
      "cell_type": "code",
      "execution_count": null,
      "metadata": {
        "colab": {
          "base_uri": "https://localhost:8080/",
          "height": 100
        },
        "id": "EqRPIt_ybIKE",
        "outputId": "4ecc9812-b0f7-4e04-e56d-f6fb4dc4b24f"
      },
      "outputs": [
        {
          "data": {
            "text/latex": [
              "$\\displaystyle \\left[\\begin{matrix}0 & - B_{z} \\sinh{\\left(\\phi \\right)} - E_{x} \\cosh{\\left(\\phi \\right)} & - E_{y} & B_{x} \\sinh{\\left(\\phi \\right)} - E_{z} \\cosh{\\left(\\phi \\right)}\\\\B_{z} \\sinh{\\left(\\phi \\right)} + E_{x} \\cosh{\\left(\\phi \\right)} & 0 & - B_{z} \\cosh{\\left(\\phi \\right)} - E_{x} \\sinh{\\left(\\phi \\right)} & B_{y}\\\\E_{y} & B_{z} \\cosh{\\left(\\phi \\right)} + E_{x} \\sinh{\\left(\\phi \\right)} & 0 & - B_{x} \\cosh{\\left(\\phi \\right)} + E_{z} \\sinh{\\left(\\phi \\right)}\\\\- B_{x} \\sinh{\\left(\\phi \\right)} + E_{z} \\cosh{\\left(\\phi \\right)} & - B_{y} & B_{x} \\cosh{\\left(\\phi \\right)} - E_{z} \\sinh{\\left(\\phi \\right)} & 0\\end{matrix}\\right]$"
            ],
            "text/plain": [
              "Matrix([\n",
              "[                                   0, -B_{z}*sinh(\\phi) - E_{x}*cosh(\\phi),                               -E_{y},  B_{x}*sinh(\\phi) - E_{z}*cosh(\\phi)],\n",
              "[ B_{z}*sinh(\\phi) + E_{x}*cosh(\\phi),                                    0, -B_{z}*cosh(\\phi) - E_{x}*sinh(\\phi),                                B_{y}],\n",
              "[                               E_{y},  B_{z}*cosh(\\phi) + E_{x}*sinh(\\phi),                                    0, -B_{x}*cosh(\\phi) + E_{z}*sinh(\\phi)],\n",
              "[-B_{x}*sinh(\\phi) + E_{z}*cosh(\\phi),                               -B_{y},  B_{x}*cosh(\\phi) - E_{z}*sinh(\\phi),                                    0]])"
            ]
          },
          "execution_count": 17,
          "metadata": {},
          "output_type": "execute_result"
        }
      ],
      "source": [
        "#solution to 2. (b) (ii)\n",
        "\n",
        "from sympy import Matrix,Symbol,cosh,sinh,simplify\n",
        "\n",
        "# defining the symbols and matrices needed\n",
        "\n",
        "E1=Symbol('E_{x}')\n",
        "E2=Symbol('E_{y}')\n",
        "E3=Symbol('E_{z}')\n",
        "\n",
        "B1=Symbol('B_{x}')\n",
        "B2=Symbol('B_{y}')\n",
        "B3=Symbol('B_{z}')\n",
        "\n",
        "phi=Symbol('\\phi')\n",
        "\n",
        "F_upper=Matrix([[0,-E1,-E2,-E3],\n",
        "                [E1,0,-B3,B2],\n",
        "                [E2,B3,0,-B1],\n",
        "                [E3,-B2,B1,0]])\n",
        "\n",
        "Ly=Matrix([[cosh(phi),0,-sinh(phi),0],\n",
        "           [0,1,0,0],\n",
        "           [-sinh(phi),0,cosh(phi),0],\n",
        "           [0,0,0,1]])\n",
        "\n",
        "F_new=Matrix([[0,0,0,0],\n",
        "              [0,0,0,0],\n",
        "              [0,0,0,0],\n",
        "              [0,0,0,0]])\n",
        "#  loop structure and for using += to ensure that the indicies are summed over\n",
        "for mu in range(4):\n",
        "  for nu in range(4):\n",
        "    for rho in range(4):\n",
        "      for sigma in range(4):\n",
        "        F_new[mu,nu]+=Ly[mu,rho]*Ly[nu,sigma]*F_upper[rho,sigma]\n",
        "# simplified transformed field strength tensor\n",
        "simplify(F_new)"
      ]
    },
    {
      "cell_type": "markdown",
      "metadata": {
        "id": "TX--pjQPdO-y"
      },
      "source": [
        "**(c)** Calculate the transformed field strength tensor $F_{\\mu\\nu}$ after a boost in the z direction. **(4 points)**\n",
        "\n",
        "Hint: First transform the tensor $F^{\\mu\\nu}$ and then lower the indicies using the metric $\\eta=\\mathrm{diag}(+1,-1,-1,-1)$. You can find the matrix for a boost in the z direction from question 1 (a)."
      ]
    },
    {
      "cell_type": "code",
      "execution_count": null,
      "metadata": {
        "colab": {
          "base_uri": "https://localhost:8080/",
          "height": 100
        },
        "id": "7nJhr8L2dMNF",
        "outputId": "adf5c579-cce7-4e43-ce6a-a95ae2b93479"
      },
      "outputs": [
        {
          "data": {
            "text/latex": [
              "$\\displaystyle \\left[\\begin{matrix}0 & - B_{y} \\sinh{\\left(\\phi \\right)} + E_{x} \\cosh{\\left(\\phi \\right)} & B_{x} \\sinh{\\left(\\phi \\right)} + E_{y} \\cosh{\\left(\\phi \\right)} & E_{z}\\\\B_{y} \\sinh{\\left(\\phi \\right)} - E_{x} \\cosh{\\left(\\phi \\right)} & 0 & - B_{z} & B_{y} \\cosh{\\left(\\phi \\right)} - E_{x} \\sinh{\\left(\\phi \\right)}\\\\- B_{x} \\sinh{\\left(\\phi \\right)} - E_{y} \\cosh{\\left(\\phi \\right)} & B_{z} & 0 & - B_{x} \\cosh{\\left(\\phi \\right)} - E_{y} \\sinh{\\left(\\phi \\right)}\\\\- E_{z} & - B_{y} \\cosh{\\left(\\phi \\right)} + E_{x} \\sinh{\\left(\\phi \\right)} & B_{x} \\cosh{\\left(\\phi \\right)} + E_{y} \\sinh{\\left(\\phi \\right)} & 0\\end{matrix}\\right]$"
            ],
            "text/plain": [
              "Matrix([\n",
              "[                                   0, -B_{y}*sinh(\\phi) + E_{x}*cosh(\\phi), B_{x}*sinh(\\phi) + E_{y}*cosh(\\phi),                                E_{z}],\n",
              "[ B_{y}*sinh(\\phi) - E_{x}*cosh(\\phi),                                    0,                              -B_{z},  B_{y}*cosh(\\phi) - E_{x}*sinh(\\phi)],\n",
              "[-B_{x}*sinh(\\phi) - E_{y}*cosh(\\phi),                                B_{z},                                   0, -B_{x}*cosh(\\phi) - E_{y}*sinh(\\phi)],\n",
              "[                              -E_{z}, -B_{y}*cosh(\\phi) + E_{x}*sinh(\\phi), B_{x}*cosh(\\phi) + E_{y}*sinh(\\phi),                                    0]])"
            ]
          },
          "execution_count": 48,
          "metadata": {},
          "output_type": "execute_result"
        }
      ],
      "source": [
        "#solution to 2. (c) \n",
        "\n",
        "from sympy import Matrix,Symbol,cosh,sinh,simplify\n",
        "\n",
        "\n",
        "E1=Symbol('E_{x}')\n",
        "E2=Symbol('E_{y}')\n",
        "E3=Symbol('E_{z}')\n",
        "\n",
        "B1=Symbol('B_{x}')\n",
        "B2=Symbol('B_{y}')\n",
        "B3=Symbol('B_{z}')\n",
        "\n",
        "phi=Symbol('\\phi')\n",
        "\n",
        "F_upper=Matrix([[0,-E1,-E2,-E3],\n",
        "                [E1,0,-B3,B2],\n",
        "                [E2,B3,0,-B1],\n",
        "                [E3,-B2,B1,0]])\n",
        "\n",
        "Lz=Matrix([[cosh(phi),0,0,-sinh(phi)],\n",
        "           [0,1,0,0],\n",
        "           [0,0,1,0],\n",
        "           [-sinh(phi),0,0,cosh(phi)]])\n",
        "\n",
        "F_new=Matrix([[0,0,0,0],\n",
        "              [0,0,0,0],\n",
        "              [0,0,0,0],\n",
        "              [0,0,0,0]])\n",
        "\n",
        "for mu in range(4):\n",
        "  for nu in range(4):\n",
        "    for rho in range(4):\n",
        "      for sigma in range(4):\n",
        "        F_new[mu,nu]+=Lz[mu,rho]*Lz[nu,sigma]*F_upper[rho,sigma]\n",
        "\n",
        "\n",
        "g=Matrix([[1,0,0,0],\n",
        "          [0,-1,0,0],\n",
        "          [0,0,-1,0],\n",
        "          [0,0,0,-1]])\n",
        "\n",
        "F_lower=Matrix([[0,0,0,0],\n",
        "              [0,0,0,0],\n",
        "              [0,0,0,0],\n",
        "              [0,0,0,0]])\n",
        "\n",
        "for mu in range(4):\n",
        "  for nu in range(4):\n",
        "    for rho in range(4):\n",
        "      for sigma in range(4):\n",
        "        F_lower[mu,nu]+=g[mu,rho]*g[nu,sigma]*F_new[rho,sigma]\n",
        "\n",
        "simplify(F_lower)\n",
        "\n"
      ]
    },
    {
      "cell_type": "markdown",
      "metadata": {
        "id": "KJMCZw0edZqd"
      },
      "source": [
        "# Question 3 The Relativistic Dopler Effect **(5 points)**\n",
        "\n"
      ]
    },
    {
      "cell_type": "markdown",
      "metadata": {
        "id": "cgnwwCs8dwTe"
      },
      "source": [
        "Consider a plane wave propagating in the $x$ direction described by the wave 4 vector,\n",
        "\n",
        "$$k^{\\mu}=(\\frac{\\omega}{c},k,0,0)=(k,k,0,0)$$\n",
        "\n",
        "**(a)** Calculate the new wave 4 vector after a Lorentz boost in the $x$ direction. For the Lorentz boost along the $x$ axis use the following matrix for this question and the 3 (b). **(2 points)**\n",
        "\n",
        "$$(\\Lambda_{x}^{(\\mathrm{boost})})^{\\mu}_{\\hspace{2mm}\\nu}=\\begin{pmatrix}\n",
        "\\gamma & -\\beta\\gamma & 0 & 0\\\\\n",
        "-\\beta\\gamma & \\gamma & 0 & 0\\\\\n",
        "0 & 0 & 1 & 0\\\\\n",
        "0 & 0 & 0 & 1\n",
        "\\end{pmatrix}$$\n",
        "\n",
        "with $\\beta=\\frac{v}{c}$ and $\\gamma=\\frac{1}{\\sqrt{1-\\beta^{2}}}$."
      ]
    },
    {
      "cell_type": "code",
      "execution_count": null,
      "metadata": {
        "colab": {
          "base_uri": "https://localhost:8080/",
          "height": 124
        },
        "id": "WSeJv0IveGzk",
        "outputId": "97a35cf2-fe78-4e28-f778-1546dc9dc4e8"
      },
      "outputs": [
        {
          "data": {
            "text/latex": [
              "$\\displaystyle \\left[\\begin{matrix}\\frac{k}{\\sqrt{1 - \\frac{v^{2}}{c^{2}}}} - \\frac{k v}{c \\sqrt{1 - \\frac{v^{2}}{c^{2}}}}\\\\\\frac{k}{\\sqrt{1 - \\frac{v^{2}}{c^{2}}}} - \\frac{k v}{c \\sqrt{1 - \\frac{v^{2}}{c^{2}}}}\\\\0\\\\0\\end{matrix}\\right]$"
            ],
            "text/plain": [
              "Matrix([\n",
              "[k/sqrt(1 - v**2/c**2) - k*v/(c*sqrt(1 - v**2/c**2))],\n",
              "[k/sqrt(1 - v**2/c**2) - k*v/(c*sqrt(1 - v**2/c**2))],\n",
              "[                                                  0],\n",
              "[                                                  0]])"
            ]
          },
          "execution_count": 7,
          "metadata": {},
          "output_type": "execute_result"
        }
      ],
      "source": [
        "# solution to 3 (a)\n",
        "\n",
        "from sympy import Matrix,Symbol,sqrt,simplify,factor\n",
        "\n",
        "\n",
        "k=Symbol('k')\n",
        "v=Symbol('v')\n",
        "c=Symbol('c')\n",
        "b=v/c\n",
        "y=1/sqrt(1-(b**2))\n",
        "\n",
        "kvec=Matrix([k,k,0,0])\n",
        "\n",
        "Lx=Matrix([[y,-b*y,0,0],\n",
        "           [-b*y,y,0,0],\n",
        "           [0,0,1,0],\n",
        "           [0,0,0,1]])\n",
        "\n",
        "knew=Matrix([0,0,0,0])\n",
        "\n",
        "for mu in range(4):\n",
        "  for nu in range(4):\n",
        "    knew[mu]+=Lx[mu,nu]*kvec[nu]\n",
        "\n",
        "knew\n"
      ]
    },
    {
      "cell_type": "markdown",
      "metadata": {
        "id": "BHzniQ02hKZX"
      },
      "source": [
        "**(b)** By using the definition of the Field strength tensor from question 2 to answer the following question. Let us assume that the components of the electric and magnetic field are $\\vec{E}=(0,E,0)$ and $\\vec{B}=(0,0,B)$ calculate what would be the components of the electric and magnetic field after a Lorentz boost in the $x$ direction. Hint: You can do this by substituting the components of the electric and magnetic field that are given in the question into the field strength tensor and then transform the resulting tensor with a Lorentz transformation which is a boost in the $x$ direction. **(3 points)**"
      ]
    },
    {
      "cell_type": "code",
      "execution_count": null,
      "metadata": {
        "colab": {
          "base_uri": "https://localhost:8080/",
          "height": 134
        },
        "id": "p9iUj6NSfaMz",
        "outputId": "ae037071-128a-40f3-9b21-a202aef9252e"
      },
      "outputs": [
        {
          "data": {
            "text/latex": [
              "$\\displaystyle \\left[\\begin{matrix}0 & 0 & \\frac{B v}{c \\sqrt{1 - \\frac{v^{2}}{c^{2}}}} - \\frac{E}{\\sqrt{1 - \\frac{v^{2}}{c^{2}}}} & 0\\\\0 & 0 & - \\frac{B}{\\sqrt{1 - \\frac{v^{2}}{c^{2}}}} + \\frac{E v}{c \\sqrt{1 - \\frac{v^{2}}{c^{2}}}} & 0\\\\- \\frac{B v}{c \\sqrt{1 - \\frac{v^{2}}{c^{2}}}} + \\frac{E}{\\sqrt{1 - \\frac{v^{2}}{c^{2}}}} & \\frac{B}{\\sqrt{1 - \\frac{v^{2}}{c^{2}}}} - \\frac{E v}{c \\sqrt{1 - \\frac{v^{2}}{c^{2}}}} & 0 & 0\\\\0 & 0 & 0 & 0\\end{matrix}\\right]$"
            ],
            "text/plain": [
              "Matrix([\n",
              "[                                                   0,                                                   0,  B*v/(c*sqrt(1 - v**2/c**2)) - E/sqrt(1 - v**2/c**2), 0],\n",
              "[                                                   0,                                                   0, -B/sqrt(1 - v**2/c**2) + E*v/(c*sqrt(1 - v**2/c**2)), 0],\n",
              "[-B*v/(c*sqrt(1 - v**2/c**2)) + E/sqrt(1 - v**2/c**2), B/sqrt(1 - v**2/c**2) - E*v/(c*sqrt(1 - v**2/c**2)),                                                    0, 0],\n",
              "[                                                   0,                                                   0,                                                    0, 0]])"
            ]
          },
          "execution_count": 10,
          "metadata": {},
          "output_type": "execute_result"
        }
      ],
      "source": [
        "# solution to 3. (b)\n",
        "\n",
        "from sympy import Matrix,Symbol,sqrt,simplify,factor\n",
        "\n",
        "k=Symbol('k')\n",
        "v=Symbol('v')\n",
        "c=Symbol('c')\n",
        "b=v/c\n",
        "y=1/sqrt(1-(b**2))\n",
        "\n",
        "Lx=Matrix([[y,-b*y,0,0],\n",
        "           [-b*y,y,0,0],\n",
        "           [0,0,1,0],\n",
        "           [0,0,0,1]])\n",
        "\n",
        "\n",
        "E2=Symbol('E')\n",
        "\n",
        "B3=Symbol('B')\n",
        "\n",
        "F_upper=Matrix([[0,0,-E2,0],\n",
        "                [0,0,-B3,0],\n",
        "                [E2,B3,0,0],\n",
        "                [0,0,0,0]])\n",
        "\n",
        "\n",
        "F_new=Matrix([[0,0,0,0],\n",
        "              [0,0,0,0],\n",
        "              [0,0,0,0],\n",
        "              [0,0,0,0]])\n",
        "\n",
        "\n",
        "for mu in range(4):\n",
        "  for nu in range(4):\n",
        "    for rho in range(4):\n",
        "      for sigma in range(4):\n",
        "        F_new[mu,nu]+=Lx[mu,rho]*Lx[nu,sigma]*F_upper[rho,sigma]\n",
        "\n",
        "F_new"
      ]
    },
    {
      "cell_type": "code",
      "execution_count": null,
      "metadata": {
        "id": "40vgBtPxh4A3"
      },
      "outputs": [],
      "source": []
    }
  ],
  "metadata": {
    "colab": {
      "collapsed_sections": [],
      "name": "CFT Part b Assignment with Solutions and Mark Outline.ipynb",
      "provenance": []
    },
    "kernelspec": {
      "display_name": "Python 3.8.5 ('qiskit_env')",
      "language": "python",
      "name": "python3"
    },
    "language_info": {
      "codemirror_mode": {
        "name": "ipython",
        "version": 3
      },
      "file_extension": ".py",
      "mimetype": "text/x-python",
      "name": "python",
      "nbconvert_exporter": "python",
      "pygments_lexer": "ipython3",
      "version": "3.8.5"
    },
    "vscode": {
      "interpreter": {
        "hash": "6e0ea1febc445cb9f924ca4c4c08ae7a94bdaf16772613a5a88ae76171467550"
      }
    }
  },
  "nbformat": 4,
  "nbformat_minor": 0
}
